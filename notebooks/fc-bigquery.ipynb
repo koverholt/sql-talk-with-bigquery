{
 "cells": [
  {
   "cell_type": "code",
   "execution_count": 1,
   "id": "297e17ca-69d7-4c0e-af55-9a476f630e33",
   "metadata": {},
   "outputs": [],
   "source": [
    "import requests\n",
    "from vertexai.preview.generative_models import (\n",
    "    Content,\n",
    "    FunctionDeclaration,\n",
    "    GenerativeModel,\n",
    "    Part,\n",
    "    Tool,\n",
    ")\n",
    "from google.cloud import bigquery\n",
    "\n",
    "model = GenerativeModel(\"gemini-pro\")"
   ]
  },
  {
   "cell_type": "code",
   "execution_count": 2,
   "id": "f7ddd660-4c1d-4379-8895-c3a6680c1e3a",
   "metadata": {},
   "outputs": [],
   "source": [
    "sql_query_func = FunctionDeclaration(\n",
    "    name=\"sql_query\",\n",
    "    description=\"Get information from data in BigQuery using SQL queries\",\n",
    "    parameters={\n",
    "    \"type\": \"object\",\n",
    "    \"properties\": {\n",
    "        \"query\": {\n",
    "            \"type\": \"string\",\n",
    "            \"description\": \"SQL query that will help answer the user's question when run on a BigQuery dataset and table\"\n",
    "        }\n",
    "    },\n",
    "         \"required\": [\n",
    "            \"query\",\n",
    "      ]\n",
    "  },\n",
    ")\n",
    "\n",
    "list_datasets_func = FunctionDeclaration(\n",
    "    name=\"list_datasets\",\n",
    "    description=\"Get a list of datasets\",\n",
    "    parameters={\n",
    "    \"type\": \"object\",\n",
    "    \"properties\": {\n",
    "  },\n",
    "},\n",
    ")\n",
    "\n",
    "list_tables_func = FunctionDeclaration(\n",
    "    name=\"list_tables\",\n",
    "    description=\"List tables in a dataset\",\n",
    "    parameters={\n",
    "    \"type\": \"object\",\n",
    "    \"properties\": {\n",
    "        \"dataset_id\": {\n",
    "            \"type\": \"string\",\n",
    "            \"description\": \"ID of the dataset to fetch tables from\"\n",
    "        }\n",
    "    },\n",
    "         \"required\": [\n",
    "            \"dataset_id\",\n",
    "      ]\n",
    "  },\n",
    ")\n",
    "\n",
    "get_table_func = FunctionDeclaration(\n",
    "    name=\"get_table\",\n",
    "    description=\"Get information about a table, including the description, schema, and number of rows\",\n",
    "    parameters={\n",
    "    \"type\": \"object\",\n",
    "    \"properties\": {\n",
    "        \"table_id\": {\n",
    "            \"type\": \"string\",\n",
    "            \"description\": \"ID of the table to get information about\"\n",
    "        }\n",
    "    },\n",
    "         \"required\": [\n",
    "            \"query\",\n",
    "      ]\n",
    "  },\n",
    ")\n",
    "\n",
    "sql_query_tool = Tool(\n",
    "    function_declarations=[\n",
    "        sql_query_func,\n",
    "        list_datasets_func, \n",
    "        list_tables_func,\n",
    "        get_table_func,\n",
    "    ],\n",
    ")"
   ]
  },
  {
   "cell_type": "code",
   "execution_count": 3,
   "id": "220ce8b8-7012-4a2b-8f03-8c7c51680a76",
   "metadata": {},
   "outputs": [],
   "source": [
    "model = GenerativeModel(\n",
    "    \"gemini-pro\", generation_config={\"temperature\": 0}, tools=[sql_query_tool]\n",
    ")\n",
    "chat = model.start_chat()\n",
    "\n",
    "client = bigquery.Client()"
   ]
  },
  {
   "cell_type": "code",
   "execution_count": 4,
   "id": "69b7d9dd-9f7b-4b4b-99b3-4c842e63eecd",
   "metadata": {},
   "outputs": [
    {
     "data": {
      "text/plain": [
       "function_call {\n",
       "  name: \"list_datasets\"\n",
       "  args {\n",
       "  }\n",
       "}"
      ]
     },
     "execution_count": 4,
     "metadata": {},
     "output_type": "execute_result"
    }
   ],
   "source": [
    "prompt = \"\"\"\n",
    "What type of data is in this database?\n",
    "\"\"\"\n",
    "\n",
    "response = chat.send_message(prompt)\n",
    "response.candidates[0].content.parts[0]"
   ]
  },
  {
   "cell_type": "code",
   "execution_count": 5,
   "id": "9aed001f-9c43-43ae-afa1-aca0d9479075",
   "metadata": {},
   "outputs": [
    {
     "data": {
      "text/plain": [
       "function_call {\n",
       "  name: \"get_table\"\n",
       "  args {\n",
       "    fields {\n",
       "      key: \"table_id\"\n",
       "      value {\n",
       "        string_value: \"thelook_ecommerce.products\"\n",
       "      }\n",
       "    }\n",
       "  }\n",
       "}"
      ]
     },
     "execution_count": 5,
     "metadata": {},
     "output_type": "execute_result"
    }
   ],
   "source": [
    "api_response = client.list_datasets()\n",
    "api_response = str([dataset.dataset_id for dataset in api_response])\n",
    "\n",
    "response = chat.send_message(\n",
    "    Part.from_function_response(\n",
    "        name=\"list_datasets\",\n",
    "        response={\n",
    "            \"content\": api_response,\n",
    "        },\n",
    "    ),\n",
    ")\n",
    "response.candidates[0].content.parts[0]"
   ]
  },
  {
   "cell_type": "code",
   "execution_count": 6,
   "id": "7be7e253-c001-4722-bae8-07504fa3ef37",
   "metadata": {},
   "outputs": [
    {
     "data": {
      "text/plain": [
       "text: \" The database contains information about products, including their ID, cost, category, name, brand, retail price, department, SKU, and distribution center ID.\""
      ]
     },
     "execution_count": 6,
     "metadata": {},
     "output_type": "execute_result"
    }
   ],
   "source": [
    "params = {}\n",
    "for key, value in response.candidates[0].content.parts[0].function_call.args.items():\n",
    "    params[key] = value\n",
    "\n",
    "api_response = client.get_table(params[\"table_id\"])\n",
    "api_response = str(api_response.to_api_repr())\n",
    "\n",
    "response = chat.send_message(\n",
    "    Part.from_function_response(\n",
    "        name=\"get_table\",\n",
    "        response={\n",
    "            \"content\": api_response,\n",
    "        },\n",
    "    ),\n",
    ")\n",
    "response.candidates[0].content.parts[0]"
   ]
  },
  {
   "cell_type": "code",
   "execution_count": null,
   "id": "85fe098a-185a-43ed-8f4e-b77bbc93186c",
   "metadata": {},
   "outputs": [],
   "source": [
    "prompt = \"\"\"\n",
    "What kind of products are there? And what is their price range?\n",
    "\"\"\"\n",
    "\n",
    "response = chat.send_message(prompt)\n",
    "response.candidates[0].content.parts[0]"
   ]
  },
  {
   "cell_type": "code",
   "execution_count": null,
   "id": "cdd41309-e015-483d-904d-74093b358054",
   "metadata": {},
   "outputs": [],
   "source": [
    "params = {}\n",
    "for key, value in response.candidates[0].content.parts[0].function_call.args.items():\n",
    "    params[key] = value\n",
    "\n",
    "api_response = client.query(params[\"query\"])\n",
    "api_response = str([row for row in api_response])\n",
    "\n",
    "response = chat.send_message(\n",
    "    Part.from_function_response(\n",
    "        name=\"sql_query\",\n",
    "        response={\n",
    "            \"content\": api_response,\n",
    "        },\n",
    "    ),\n",
    ")\n",
    "response.candidates[0].content.parts[0]"
   ]
  },
  {
   "cell_type": "code",
   "execution_count": null,
   "id": "102d7fa7-9c8e-4fa0-b0f7-69f207319e8e",
   "metadata": {},
   "outputs": [],
   "source": [
    "prompt = \"\"\"\n",
    "How many different brands do we have? And what are the top 5 brands based on the number of items we have?\n",
    "\"\"\"\n",
    "\n",
    "response = chat.send_message(prompt)\n",
    "response.candidates[0].content.parts[0]"
   ]
  },
  {
   "cell_type": "code",
   "execution_count": null,
   "id": "42a7b84d-883a-456d-bf2f-d18716b5772f",
   "metadata": {},
   "outputs": [],
   "source": [
    "params = {}\n",
    "for key, value in response.candidates[0].content.parts[0].function_call.args.items():\n",
    "    params[key] = value\n",
    "\n",
    "api_response = client.query(params[\"query\"])\n",
    "api_response = str([row for row in api_response])\n",
    "\n",
    "response = chat.send_message(\n",
    "    Part.from_function_response(\n",
    "        name=\"sql_query\",\n",
    "        response={\n",
    "            \"content\": api_response,\n",
    "        },\n",
    "    ),\n",
    ")\n",
    "response.candidates[0].content.parts[0]"
   ]
  },
  {
   "cell_type": "code",
   "execution_count": null,
   "id": "70faca87-41ce-4e58-bda8-e0d35cdac8c3",
   "metadata": {},
   "outputs": [],
   "source": [
    "prompt = \"\"\"\n",
    "How many distribution centers do we have?\n",
    "\"\"\"\n",
    "\n",
    "response = chat.send_message(prompt)\n",
    "response.candidates[0].content.parts[0]"
   ]
  },
  {
   "cell_type": "code",
   "execution_count": null,
   "id": "c29e27cd-3573-4f4b-bc67-ebcc160b4e43",
   "metadata": {},
   "outputs": [],
   "source": [
    "params = {}\n",
    "for key, value in response.candidates[0].content.parts[0].function_call.args.items():\n",
    "    params[key] = value\n",
    "\n",
    "api_response = client.query(params[\"query\"])\n",
    "api_response = str([row for row in api_response])\n",
    "\n",
    "response = chat.send_message(\n",
    "    Part.from_function_response(\n",
    "        name=\"sql_query\",\n",
    "        response={\n",
    "            \"content\": api_response,\n",
    "        },\n",
    "    ),\n",
    ")\n",
    "response.candidates[0].content.parts[0]"
   ]
  },
  {
   "cell_type": "code",
   "execution_count": null,
   "id": "eb94ac02-8539-442d-bf2f-2cdd81ef8ccd",
   "metadata": {},
   "outputs": [],
   "source": [
    "params = {}\n",
    "for key, value in response.candidates[0].content.parts[0].function_call.args.items():\n",
    "    params[key] = value\n",
    "\n",
    "api_response = client.query(params[\"query\"])\n",
    "api_response = str([row for row in api_response])\n",
    "\n",
    "response = chat.send_message(\n",
    "    Part.from_function_response(\n",
    "        name=\"sql_query\",\n",
    "        response={\n",
    "            \"content\": api_response,\n",
    "        },\n",
    "    ),\n",
    ")\n",
    "response.candidates[0].content.parts[0]"
   ]
  },
  {
   "cell_type": "code",
   "execution_count": null,
   "id": "0a87485e-5c68-4222-87fe-96bc4fedf753",
   "metadata": {},
   "outputs": [],
   "source": []
  }
 ],
 "metadata": {
  "kernelspec": {
   "display_name": "Python 3 (ipykernel)",
   "language": "python",
   "name": "python3"
  },
  "language_info": {
   "codemirror_mode": {
    "name": "ipython",
    "version": 3
   },
   "file_extension": ".py",
   "mimetype": "text/x-python",
   "name": "python",
   "nbconvert_exporter": "python",
   "pygments_lexer": "ipython3",
   "version": "3.11.6"
  }
 },
 "nbformat": 4,
 "nbformat_minor": 5
}
